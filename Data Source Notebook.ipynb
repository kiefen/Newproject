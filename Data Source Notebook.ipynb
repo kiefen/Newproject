{
    "cells": [
        {
            "cell_type": "markdown",
            "metadata": {
                "collapsed": true,
                "id": "00647313-9b24-4342-b22b-b3659464f3c9",
                "jupyter": {
                    "outputs_hidden": true
                }
            },
            "source": "This program prints Hello, World!"
        },
        {
            "cell_type": "code",
            "execution_count": 2,
            "metadata": {
                "id": "2a6e5434-f89e-480a-acb8-5f598372c530"
            },
            "outputs": [
                {
                    "name": "stdout",
                    "output_type": "stream",
                    "text": "Hello, World!\n"
                },
                {
                    "data": {
                        "text/html": "<div>\n<style scoped>\n    .dataframe tbody tr th:only-of-type {\n        vertical-align: middle;\n    }\n\n    .dataframe tbody tr th {\n        vertical-align: top;\n    }\n\n    .dataframe thead th {\n        text-align: right;\n    }\n</style>\n<table border=\"1\" class=\"dataframe\">\n  <thead>\n    <tr style=\"text-align: right;\">\n      <th></th>\n      <th>schedule_date</th>\n      <th>schedule_season</th>\n      <th>schedule_week</th>\n      <th>schedule_playoff</th>\n      <th>team_home</th>\n      <th>score_home</th>\n      <th>score_away</th>\n      <th>team_away</th>\n      <th>team_favorite_id</th>\n      <th>spread_favorite</th>\n      <th>over_under_line</th>\n      <th>stadium</th>\n      <th>stadium_neutral</th>\n      <th>weather_temperature</th>\n      <th>weather_wind_mph</th>\n      <th>weather_humidity</th>\n      <th>weather_detail</th>\n    </tr>\n  </thead>\n  <tbody>\n    <tr>\n      <th>0</th>\n      <td>9/2/1966</td>\n      <td>1966</td>\n      <td>1</td>\n      <td>False</td>\n      <td>Miami Dolphins</td>\n      <td>14</td>\n      <td>23</td>\n      <td>Oakland Raiders</td>\n      <td>NaN</td>\n      <td>NaN</td>\n      <td>NaN</td>\n      <td>Orange Bowl</td>\n      <td>False</td>\n      <td>83.0</td>\n      <td>6.0</td>\n      <td>71.0</td>\n      <td>NaN</td>\n    </tr>\n    <tr>\n      <th>1</th>\n      <td>9/3/1966</td>\n      <td>1966</td>\n      <td>1</td>\n      <td>False</td>\n      <td>Houston Oilers</td>\n      <td>45</td>\n      <td>7</td>\n      <td>Denver Broncos</td>\n      <td>NaN</td>\n      <td>NaN</td>\n      <td>NaN</td>\n      <td>Rice Stadium</td>\n      <td>False</td>\n      <td>81.0</td>\n      <td>7.0</td>\n      <td>70.0</td>\n      <td>NaN</td>\n    </tr>\n    <tr>\n      <th>2</th>\n      <td>9/4/1966</td>\n      <td>1966</td>\n      <td>1</td>\n      <td>False</td>\n      <td>San Diego Chargers</td>\n      <td>27</td>\n      <td>7</td>\n      <td>Buffalo Bills</td>\n      <td>NaN</td>\n      <td>NaN</td>\n      <td>NaN</td>\n      <td>Balboa Stadium</td>\n      <td>False</td>\n      <td>70.0</td>\n      <td>7.0</td>\n      <td>82.0</td>\n      <td>NaN</td>\n    </tr>\n    <tr>\n      <th>3</th>\n      <td>9/9/1966</td>\n      <td>1966</td>\n      <td>2</td>\n      <td>False</td>\n      <td>Miami Dolphins</td>\n      <td>14</td>\n      <td>19</td>\n      <td>New York Jets</td>\n      <td>NaN</td>\n      <td>NaN</td>\n      <td>NaN</td>\n      <td>Orange Bowl</td>\n      <td>False</td>\n      <td>82.0</td>\n      <td>11.0</td>\n      <td>78.0</td>\n      <td>NaN</td>\n    </tr>\n    <tr>\n      <th>4</th>\n      <td>9/10/1966</td>\n      <td>1966</td>\n      <td>1</td>\n      <td>False</td>\n      <td>Green Bay Packers</td>\n      <td>24</td>\n      <td>3</td>\n      <td>Baltimore Colts</td>\n      <td>NaN</td>\n      <td>NaN</td>\n      <td>NaN</td>\n      <td>Lambeau Field</td>\n      <td>False</td>\n      <td>64.0</td>\n      <td>8.0</td>\n      <td>62.0</td>\n      <td>NaN</td>\n    </tr>\n    <tr>\n      <th>5</th>\n      <td>9/10/1966</td>\n      <td>1966</td>\n      <td>2</td>\n      <td>False</td>\n      <td>Houston Oilers</td>\n      <td>31</td>\n      <td>0</td>\n      <td>Oakland Raiders</td>\n      <td>NaN</td>\n      <td>NaN</td>\n      <td>NaN</td>\n      <td>Rice Stadium</td>\n      <td>False</td>\n      <td>77.0</td>\n      <td>6.0</td>\n      <td>82.0</td>\n      <td>NaN</td>\n    </tr>\n    <tr>\n      <th>6</th>\n      <td>9/10/1966</td>\n      <td>1966</td>\n      <td>2</td>\n      <td>False</td>\n      <td>San Diego Chargers</td>\n      <td>24</td>\n      <td>0</td>\n      <td>New England Patriots</td>\n      <td>NaN</td>\n      <td>NaN</td>\n      <td>NaN</td>\n      <td>Balboa Stadium</td>\n      <td>False</td>\n      <td>69.0</td>\n      <td>9.0</td>\n      <td>81.0</td>\n      <td>NaN</td>\n    </tr>\n    <tr>\n      <th>7</th>\n      <td>9/11/1966</td>\n      <td>1966</td>\n      <td>1</td>\n      <td>False</td>\n      <td>Atlanta Falcons</td>\n      <td>14</td>\n      <td>19</td>\n      <td>Los Angeles Rams</td>\n      <td>NaN</td>\n      <td>NaN</td>\n      <td>NaN</td>\n      <td>Atlanta-Fulton County Stadium</td>\n      <td>False</td>\n      <td>71.0</td>\n      <td>7.0</td>\n      <td>57.0</td>\n      <td>NaN</td>\n    </tr>\n    <tr>\n      <th>8</th>\n      <td>9/11/1966</td>\n      <td>1966</td>\n      <td>2</td>\n      <td>False</td>\n      <td>Buffalo Bills</td>\n      <td>20</td>\n      <td>42</td>\n      <td>Kansas City Chiefs</td>\n      <td>NaN</td>\n      <td>NaN</td>\n      <td>NaN</td>\n      <td>War Memorial Stadium</td>\n      <td>False</td>\n      <td>63.0</td>\n      <td>11.0</td>\n      <td>73.0</td>\n      <td>NaN</td>\n    </tr>\n    <tr>\n      <th>9</th>\n      <td>9/11/1966</td>\n      <td>1966</td>\n      <td>1</td>\n      <td>False</td>\n      <td>Detroit Lions</td>\n      <td>14</td>\n      <td>3</td>\n      <td>Chicago Bears</td>\n      <td>NaN</td>\n      <td>NaN</td>\n      <td>NaN</td>\n      <td>Tiger Stadium</td>\n      <td>False</td>\n      <td>67.0</td>\n      <td>7.0</td>\n      <td>73.0</td>\n      <td>NaN</td>\n    </tr>\n  </tbody>\n</table>\n</div>",
                        "text/plain": "  schedule_date  schedule_season schedule_week  schedule_playoff  \\\n0      9/2/1966             1966             1             False   \n1      9/3/1966             1966             1             False   \n2      9/4/1966             1966             1             False   \n3      9/9/1966             1966             2             False   \n4     9/10/1966             1966             1             False   \n5     9/10/1966             1966             2             False   \n6     9/10/1966             1966             2             False   \n7     9/11/1966             1966             1             False   \n8     9/11/1966             1966             2             False   \n9     9/11/1966             1966             1             False   \n\n            team_home  score_home  score_away             team_away  \\\n0      Miami Dolphins          14          23       Oakland Raiders   \n1      Houston Oilers          45           7        Denver Broncos   \n2  San Diego Chargers          27           7         Buffalo Bills   \n3      Miami Dolphins          14          19         New York Jets   \n4   Green Bay Packers          24           3       Baltimore Colts   \n5      Houston Oilers          31           0       Oakland Raiders   \n6  San Diego Chargers          24           0  New England Patriots   \n7     Atlanta Falcons          14          19      Los Angeles Rams   \n8       Buffalo Bills          20          42    Kansas City Chiefs   \n9       Detroit Lions          14           3         Chicago Bears   \n\n  team_favorite_id  spread_favorite over_under_line  \\\n0              NaN              NaN             NaN   \n1              NaN              NaN             NaN   \n2              NaN              NaN             NaN   \n3              NaN              NaN             NaN   \n4              NaN              NaN             NaN   \n5              NaN              NaN             NaN   \n6              NaN              NaN             NaN   \n7              NaN              NaN             NaN   \n8              NaN              NaN             NaN   \n9              NaN              NaN             NaN   \n\n                         stadium  stadium_neutral  weather_temperature  \\\n0                    Orange Bowl            False                 83.0   \n1                   Rice Stadium            False                 81.0   \n2                 Balboa Stadium            False                 70.0   \n3                    Orange Bowl            False                 82.0   \n4                  Lambeau Field            False                 64.0   \n5                   Rice Stadium            False                 77.0   \n6                 Balboa Stadium            False                 69.0   \n7  Atlanta-Fulton County Stadium            False                 71.0   \n8           War Memorial Stadium            False                 63.0   \n9                  Tiger Stadium            False                 67.0   \n\n   weather_wind_mph  weather_humidity weather_detail  \n0               6.0              71.0            NaN  \n1               7.0              70.0            NaN  \n2               7.0              82.0            NaN  \n3              11.0              78.0            NaN  \n4               8.0              62.0            NaN  \n5               6.0              82.0            NaN  \n6               9.0              81.0            NaN  \n7               7.0              57.0            NaN  \n8              11.0              73.0            NaN  \n9               7.0              73.0            NaN  "
                    },
                    "execution_count": 2,
                    "metadata": {},
                    "output_type": "execute_result"
                }
            ],
            "source": "# The code was removed by Watson Studio for sharing."
        },
        {
            "cell_type": "code",
            "execution_count": null,
            "metadata": {
                "id": "128151fe-2e0c-4f47-82e5-29f392f80442"
            },
            "outputs": [],
            "source": ""
        }
    ],
    "metadata": {
        "kernelspec": {
            "display_name": "Python 3.11",
            "language": "python",
            "name": "python3"
        },
        "language_info": {
            "codemirror_mode": {
                "name": "ipython",
                "version": 3
            },
            "file_extension": ".py",
            "mimetype": "text/x-python",
            "name": "python",
            "nbconvert_exporter": "python",
            "pygments_lexer": "ipython3",
            "version": "3.11.9"
        }
    },
    "nbformat": 4,
    "nbformat_minor": 4
}