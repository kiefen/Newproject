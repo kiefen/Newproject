{
    "cells": [
        {
            "cell_type": "markdown",
            "metadata": {
                "collapsed": true,
                "id": "4378b293-cb10-4f1d-af4e-804fbbb509ed",
                "jupyter": {
                    "outputs_hidden": true
                }
            },
            "source": "# My Jupyter Notebook on IBM watsonx.ai"
        },
        {
            "cell_type": "markdown",
            "metadata": {
                "id": "56db01d1-24fa-4015-98c5-b1097ccfee85"
            },
            "source": "**Kiefen Link**\nInside Sales and Business Intelligence Specialist"
        },
        {
            "cell_type": "markdown",
            "metadata": {
                "id": "9478d31e-4091-44dd-b3b7-6d3f982c2ed7"
            },
            "source": "*I am interested in data science because it will allow me to expand my knowledge in my career field and it will allow me to exponentially grow into being able to understand the techincal aspect and the business implications to follow suit*"
        },
        {
            "cell_type": "markdown",
            "metadata": {
                "id": "29bb1dcc-e9e4-4bc2-94e6-2b5fbef09485"
            },
            "source": "### Following cells' code will output a mathematical function"
        },
        {
            "cell_type": "code",
            "execution_count": 3,
            "metadata": {
                "id": "8ca700e2-3e77-4744-afbb-f8021328d7f7"
            },
            "outputs": [
                {
                    "data": {
                        "text/plain": "40201.0"
                    },
                    "execution_count": 3,
                    "metadata": {},
                    "output_type": "execute_result"
                }
            ],
            "source": "((35+14)*(4560/5)+(1))-(4488)"
        },
        {
            "cell_type": "markdown",
            "metadata": {
                "id": "0e68a172-4eea-4508-82f6-dc72f2e55e61"
            },
            "source": "| NFL Team          | Conference |\n|-------------------|------------|\n| Minnesota Vikings | NFC North  |\n| Green Bay Packers | NFC North  |\n| Chicago Bears     | NFC North  |\n| Detroit Lions     | NFC North  |\n\n**NFC Regions**\n* NFC North\n* NFC South\n* NFC East\n* NFC West\n\n**Conferences:**\n1. NFC\n2. AFC"
        },
        {
            "cell_type": "code",
            "execution_count": null,
            "metadata": {
                "id": "25a2031a-46dd-46d5-a2a1-c2fdebedfc86"
            },
            "outputs": [],
            "source": " "
        }
    ],
    "metadata": {
        "kernelspec": {
            "display_name": "Python 3.11",
            "language": "python",
            "name": "python3"
        },
        "language_info": {
            "codemirror_mode": {
                "name": "ipython",
                "version": 3
            },
            "file_extension": ".py",
            "mimetype": "text/x-python",
            "name": "python",
            "nbconvert_exporter": "python",
            "pygments_lexer": "ipython3",
            "version": "3.11.9"
        }
    },
    "nbformat": 4,
    "nbformat_minor": 4
}