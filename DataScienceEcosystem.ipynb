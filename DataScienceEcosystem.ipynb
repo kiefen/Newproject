{
 "cells": [
  {
   "cell_type": "markdown",
   "id": "f565b0f6-4c2a-4553-8b4d-5a53269b137a",
   "metadata": {},
   "source": [
    "# Data Science Tools and Ecosystem "
   ]
  },
  {
   "cell_type": "markdown",
   "id": "165c7c06-286a-434d-ba14-d63c4a8eacdf",
   "metadata": {},
   "source": [
    "## Author\n",
    "Kiefen Link"
   ]
  },
  {
   "cell_type": "markdown",
   "id": "43b0611f-0dd5-4d7a-a33b-33c784dc4b16",
   "metadata": {},
   "source": [
    "In this notebook, Data Science Tools and Ecosystem are summarized."
   ]
  },
  {
   "cell_type": "markdown",
   "id": "3b35f4c8-d711-49d1-9201-492b81538745",
   "metadata": {},
   "source": [
    "**Objectives** \n",
    "* List popular languages for Data Science\n",
    "* List commonly used libraries for Data Science\n",
    "* List tools that are used for Data Science"
   ]
  },
  {
   "cell_type": "markdown",
   "id": "ae729c82-6c95-48d3-9e90-ba62458685a4",
   "metadata": {},
   "source": [
    "Some of the popular languages that Data Scientists use are: \n",
    "1. R\n",
    "2. Python\n",
    "3. SQL"
   ]
  },
  {
   "cell_type": "markdown",
   "id": "92ff4b7b-2f92-43c4-9ca9-322aa4e27a61",
   "metadata": {},
   "source": [
    "Some of the commonly used libraries used by Data Scientists include:\n",
    "1. pandas\n",
    "2. ggplot2\n",
    "3. caret\n",
    "4. dplyr"
   ]
  },
  {
   "cell_type": "markdown",
   "id": "3de7e962-add7-4889-b329-8bc5b2da33fd",
   "metadata": {},
   "source": [
    "| Data Science Tools |\n",
    "| ------------------ |\n",
    "| MySQL |\n",
    "| Jupyter Notebook |\n",
    "| R Studio |\n",
    "| GitHub |"
   ]
  },
  {
   "cell_type": "markdown",
   "id": "19241d10-3dd7-4d01-9cee-61380d2ae040",
   "metadata": {},
   "source": [
    "### Below are a few examples of evaluating arithmaetic expression examples "
   ]
  },
  {
   "cell_type": "code",
   "execution_count": 2,
   "id": "1fe92ca4-f8bb-4629-a416-22eb45566caf",
   "metadata": {},
   "outputs": [
    {
     "data": {
      "text/plain": [
       "17"
      ]
     },
     "execution_count": 2,
     "metadata": {},
     "output_type": "execute_result"
    }
   ],
   "source": [
    "# This a simple arithmetic expression to multiply then add integers.\n",
    "\n",
    "(3*4)+5"
   ]
  },
  {
   "cell_type": "code",
   "execution_count": 3,
   "id": "3e7c7962-914b-4846-b10d-b8ce2e3ad028",
   "metadata": {},
   "outputs": [
    {
     "data": {
      "text/plain": [
       "3.3333333333333335"
      ]
     },
     "execution_count": 3,
     "metadata": {},
     "output_type": "execute_result"
    }
   ],
   "source": [
    "# This will convert 200 minutes to hours by diving by 60\n",
    "\n",
    "200/6"
   ]
  },
  {
   "cell_type": "markdown",
   "id": "065f75e3-aa67-4a8d-a97f-d6020bc32570",
   "metadata": {},
   "source": []
  }
 ],
 "metadata": {
  "kernelspec": {
   "display_name": "Python 3 (ipykernel)",
   "language": "python",
   "name": "python3"
  },
  "language_info": {
   "codemirror_mode": {
    "name": "ipython",
    "version": 3
   },
   "file_extension": ".py",
   "mimetype": "text/x-python",
   "name": "python",
   "nbconvert_exporter": "python",
   "pygments_lexer": "ipython3",
   "version": "3.12.8"
  }
 },
 "nbformat": 4,
 "nbformat_minor": 5
}
